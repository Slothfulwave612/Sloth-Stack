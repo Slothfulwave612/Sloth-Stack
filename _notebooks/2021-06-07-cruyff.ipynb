{
 "cells": [
  {
   "cell_type": "markdown",
   "metadata": {},
   "source": [
    "# The Legacy of Johan Cruyff\n",
    "> A look at Johan Cruyff's managerial tenure at FC Barcelona.\n",
    "\n",
    "- toc: false\n",
    "- badges: false\n",
    "- comments: true\n",
    "- categories: [Revisiting-The-Past]\n",
    "- image: images/01_johan_cruyff/main.jpg\n",
    "- hide: true\n",
    "- search_exclude: true"
   ]
  },
  {
   "cell_type": "markdown",
   "metadata": {},
   "source": [
    "<img src=\"../images/01_johan_cruyff/quotes_01.jpg\" alt=\"quote-by-laporta\" width=\"860\">"
   ]
  },
  {
   "cell_type": "markdown",
   "metadata": {},
   "source": [
    "**Hendrik Johannes Cruijff OON**, aka *Johan Cruyff*, is the most influential and revolutionary figure in the history of FC Barcelona and has an iconic presence in the history of football. The success of modern-day FC Barcelona is all because of the ideas and principles implemented by Cruyff during his managerial tenure from 1988-1996. Cruyff's principles gave an identity that changed FC Barcelona forever. It also helped Spain laying a systematic foundation for their period of dominance (2008-2012) in world football."
   ]
  },
  {
   "cell_type": "markdown",
   "metadata": {},
   "source": [
    "# Prelude\n",
    "\n",
    "In April 1988, as the season (1987-88) was coming close to its end, FC Barcelona found themselves in crisis. Financially they were in debt. Professionally it has been Barça's one of the worst season (6th position in La Liga). In addition, there was a mutiny rising among the players against the then club's president Josep Lluís Núñez. It was known as the *Hesperia Mutiny* - disagreements over contracts, payments and taxes led to resistance from the first-team squad. The fans, who were irritated by Barça's poor performance in which they would finish in sixth place in La Liga, took the board's side. The dispute ended with the dismissal of 15 players and the coach (Luis Aragonés Suárez).\n",
    "\n",
    "With election dates nearing, Núñez needed a change to help re-establish his position at the club and help him win the election next year. So, on May 4, 1988, Núñez appointed Johan Cruyff as the new manager of FC Barcelona. It was a historic move - a move that changed FC Barcelona forever."
   ]
  },
  {
   "cell_type": "markdown",
   "metadata": {},
   "source": [
    "<img src=\"../images/01_johan_cruyff/quotes_02.jpg\" alt=\"quote-by-sid\" width=\"860\">"
   ]
  },
  {
   "cell_type": "markdown",
   "metadata": {},
   "source": [
    "# Brief on La Masia\n",
    "\n",
    "La Masia, in its modern form, owes its existence partly to Josep Lluís Núñez. He appointed personnel to direct the youth setup - Jaume Amat as the head of youth football, Oriol Tort Martínez as the talent spotter, and others. It was Amat who proposed the creation of a residential home for young players. For this new project, the management planned *La Masia de Can Planes* as the centre-piece.\n",
    "\n",
    "In 1972, Núñez's board appointed Laureano Ruiz Quevedo as the coach of Barça's Juvenil A side. It was Ruiz's work that helped Barça to develop a good youth team setup. He created a set of common traits within the youth academy. But, the problem lay in the difference with the first team. Different coaches directed the first team with their tactical ideas.\n",
    "\n",
    "After he was appointed the head coach of FC Barcelona, Johan Cruyff, with his personality and authority, created a proper consistency between the youth teams and the first team. From 1988, every Barça's team, from youth level to the first team, became synonymous with playing a similar style of football. Each side shared similar training routines, which included quick attacking football, positional play and pressing. He also removed the notion of prioritizing physical attributes in young players. He wanted more technical young players in the academy."
   ]
  },
  {
   "cell_type": "markdown",
   "metadata": {},
   "source": [
    "<img width=\"860\" src=\"../images/01_johan_cruyff/quotes_03.jpg\" alt=\"quote-by-albert\">"
   ]
  },
  {
   "cell_type": "markdown",
   "metadata": {},
   "source": [
    "# First Three Seasons\n",
    "\n",
    "When Cruyff took charge in 1988, FC Barcelona were in a situation of severe crisis. The 1987-88 season was one of the worst seasons for Barça. They were in debt and had only won two league titles in 28 years.\n",
    "\n",
    "In the 1987-88 season, 22 players played for FC Barcelona, of which 11 were from *La Masia*. It was a balanced team of academy graduates and other players. But because of the Hesperia Mutiny case and a bad performance throughout the season, Barça sold 15 players."
   ]
  },
  {
   "cell_type": "markdown",
   "metadata": {},
   "source": [
    "<img src=\"../images/01_johan_cruyff/05_before_cruyff.jpg\" alt=\"squad-divisions\" width=\"860\">"
   ]
  },
  {
   "cell_type": "markdown",
   "metadata": {},
   "source": [
    "Barça needed the rebuilding, and Cruyff was quick to it. Before the new season, Barça made 12 new additions. Of which Txiki Begiristain, José Mari Bakero, Julio Salinas and Eusebio became the crucial players in Cruyff's future *Dream Team*."
   ]
  },
  {
   "cell_type": "markdown",
   "metadata": {},
   "source": [
    "<img src=\"../images/01_johan_cruyff/table.jpg\" alt=\"transfers\">"
   ]
  },
  {
   "cell_type": "markdown",
   "metadata": {},
   "source": [
    "With the new signings made in the transfer window, the new season for FC Barcelona started on September 09, 1988, when they faced their neighbouring rivals RCD Espanyol at home. Barça went on to win the game 2-0 courtesy of the goals scored by Txiki Begiristain and Roberto Fernández. The season started well for Barça but, after a few games, they faced their first defeat under Johan Cruyff against their eternal rivals Real Madrid. Barça lost the first leg of the Supercup finals by 2-0. They managed to win the second leg by 2-1. But on aggregate, they lost the final to Real Madrid. The season went on for Barça, as in the end, they won the UEFA Cup Winners' Cup defeating UC Sampdoria in the finals by 2-0. The Barça of the 1988-89 season was so much better than that of the previous season. They finished second in La Liga with 57 points, just behind Real Madrid by five points. They scored a total of 80 goals (second-best in the league) and conceded just 26 goals (best in the league).\n",
    "\n",
    "Ronald Koeman, Michael Laudrup and a few others arrived at FC Barcelona in the following transfer window. Koeman and Laudrup would prove important figures in Cruyff's future *Dream Team*, but they failed to shine in their first season. Koeman, especially, had a disappointing season. The 1989-90 season saw Barça finishing at 3rd position in the league, 11 points behind Real Madrid and two points behind Valencia. The only thing that helped Cruyff keep his job was a 2-0 victory against Real Madrid in the finals of the King's Cup. At the end of the season, Núñez rejected a vote of no confidence from the *Socios* to sack Cruyff.\n",
    "\n",
    "The 1990-91 season saw the start of the *Dream Team*. Barça made a few more transfers before the new season. Hristo Stoichkov was one of the transfers, and he proved to be the final piece to complete the *Dream Team*. Barça took a hit before the end of the season as Johan Cruyff's greatest weakness came to horrify him. Being a chain-smoker since his teens, he underwent a double heart bypass surgery in 1991. During the last nine-game absence, Charly Rexach (Cruyff's assistant) took charge. And Barça secured the first league title in six years, breaking the monopoly of Real Madrid during that time.\n",
    "\n",
    "During his first three seasons, Cruyff managed to win three titles with Barça. He gave debuts to 12 academy graduates in his first three seasons, of which half of the debuts came in the 1990-91 season. Pep Guardiola was one of those six academy graduates."
   ]
  },
  {
   "cell_type": "markdown",
   "metadata": {},
   "source": [
    "<img src=\"../images/01_johan_cruyff/pep.jpg\" alt=\"pep\" width=\"860\">"
   ]
  },
  {
   "cell_type": "markdown",
   "metadata": {},
   "source": [
    "# The Dream Team\n",
    "\n",
    "The start to the season was not what FC Barcelona expected. In the first seven matches, in all competitions, they faced four defeats against Sevilla, Sporting de Gijón, Hansa Rostock and Real Oviedo. But slowly and steadily, they found their form. Barça won their first trophy of the season on October 29 1991, as they defeated Atlético de Madrid in the finals of the Spanish Supercup by 2-1 on aggregate. The most historic moment for FC Barcelona came on May 20 1992 - the final of the UEFA European Cup at Wembley. It was not their first final. Barça played in the finals of the European Cup on the previous two occasions. In the 1960–61 finals, they lost against SL Benfica by 3-2. And in the 1985–86 finals, they lost against FC Steaua București on penalties. This time it was different. This time they had a great team with a great manager."
   ]
  },
  {
   "cell_type": "markdown",
   "metadata": {},
   "source": [
    "<img src=\"../images/01_johan_cruyff/quotes_04.jpg\" alt=\"quote-by-nadal\" width=\"860\">"
   ]
  },
  {
   "cell_type": "markdown",
   "metadata": {},
   "source": [
    "FC Barcelona went on to win the finals for the first time in their history. It was Ronald Koeman who was the protagonist. It was his free-kick goal in the extra time that made the difference. It was the principles of Cruyff that made Barça the champions. Barça became synonymous with the name \n",
    "*Dream Team*. The way Cruyff's Barça played was a reference point worldwide.\n",
    "\n",
    "Cruyff included two La Masia graduates, Pep Guardiola and Albert Ferrer, in his starting eleven that faced UC Sampdoria in the finals at Wembley."
   ]
  },
  {
   "cell_type": "markdown",
   "metadata": {},
   "source": [
    "<img src=\"../images/01_johan_cruyff/06_dream_team_final.jpg\" alt=\"starting-xi\" width=\"860\">"
   ]
  },
  {
   "cell_type": "markdown",
   "metadata": {},
   "source": [
    "*Good things come in threes*. And it came in threes as on June 07 1992, Barça clinched the La Liga title, thanks to Real Madrid's last day defeat against Deportivo Tenerife. Cruyff's Barça has won three titles in the 1991-92 season - it was a dream season. A total of 21 players played in that season for Barça, of which six of them were from La Masia. It was a squad where most of the players were in their peak age."
   ]
  },
  {
   "cell_type": "markdown",
   "metadata": {},
   "source": [
    "<img src=\"../images/01_johan_cruyff/02_dream_team_division.jpg\" alt=\"squad-division\" width=\"860\">"
   ]
  },
  {
   "cell_type": "markdown",
   "metadata": {},
   "source": [
    "The 1992-93 season started with a 2-1 win over Real Madrid. FC Barcelona won three titles. They defeated Atlético de Madrid to win the Spanish Supercup. They also clinched the European Supercup after defeating Werder Bremen in the finals. And on the last day of the season, they won the third successive league title - again thanks to Real Madrid's defeat against Deportivo Tenerife. At the end of the season, there were tensions between Cruyff and president Núñez, especially after the Champions League exit against CSKA Moscow (back in December 1992).\n",
    "\n",
    "Barça made a few more changes to the squad before the forthcoming season. Barça bought Romário from PSV Eindhoven, and he proved to be a great addition to the team. His best performance came against Real Madrid on January 08 1994, when he scored a hattrick in a 5-0 win at Camp Nou. Towards the end of the season, FC Barcelona went on a winning streak. In the last 15 games of the league, they won 13 times, drawing just twice. They won 28 out of 30 available points since losing 6-2 to Real Zaragoza in February and secured the league. It was their fourth consecutive league title. The press, after Barça's achievement, called them the *Hostia Team*, the Bloody Hell Team.\n",
    "\n",
    "Though the main challenge was yet to come, FC Barcelona were in the finals of the UEFA Champions League and were against Fabio Capello's AC Milan. Barça arrived with all the confidence in the final. *\"Barça are the favourites,\"* said Johan before the game. Cruyff included four La Masia graduates in his starting eleven - Pep Guardiola, Albert Ferrer, Sergi Barjuán and Guillermo Amor."
   ]
  },
  {
   "cell_type": "markdown",
   "metadata": {},
   "source": [
    "<img src=\"../images/01_johan_cruyff/07_dream_team_final_2.jpg\" alt=\"starting-xi\" width=\"860\">"
   ]
  },
  {
   "cell_type": "markdown",
   "metadata": {},
   "source": [
    "But it was AC Milan's night. That night saw Capello's Milan exploiting Barça's defence and eventually winning the final by 4-0. It was the breaking point. It was from where the world saw the end of the *Dream Team*."
   ]
  },
  {
   "cell_type": "markdown",
   "metadata": {},
   "source": [
    "<img src=\"../images/01_johan_cruyff/quotes_05.jpg\" alt=\"quote-by-albert\" width=\"860\">"
   ]
  },
  {
   "cell_type": "markdown",
   "metadata": {},
   "source": [
    "# The Last Two Seasons\n",
    "\n",
    "The last two seasons did not go well for Cruyff and FC Barcelona. Before the 1994-95 season, players like Michael Laudrup, Julio Salinas, Andoni Zubizarreta and Romário were sold. Barça only won the Spanish Supercup that season and came fourth in the league. In the following season (1995-96), Barça sold Hristo Stoichkov, Txiki Begiristain, Ronald Koeman and Eusebio. Now, only Albert Ferrer, Miguel Ángel Nadal, Pep Guardiola and José Mari Bakero remained. It was an end to the *Dream Team*. It was the first time since Cruyff has taken charge that Barça were unable to win a trophy. In La Liga, they finished third behind Atlético de Madrid and Valencia. Things became worse between Cruyff and president Núñez. Their discontent reached its peak. As a result of his disagreements with the president, in 1996, Cruyff left the club, bringing an end to his managerial career at FC Barcelona."
   ]
  },
  {
   "cell_type": "markdown",
   "metadata": {},
   "source": [
    "<img src=\"../images/01_johan_cruyff/cruyff.jpg\" alt=\"cruyff-the-manager\" width=\"860\">"
   ]
  },
  {
   "cell_type": "markdown",
   "metadata": {},
   "source": [
    "# Final Words\n",
    "\n",
    "With eleven trophies, Johan Cruyff became the most successful FC Barcelona's manager at that time. Cruyff is also the club's longest-serving manager. He is also the only manager in the history of FC Barcelona to win four successive league titles."
   ]
  },
  {
   "cell_type": "markdown",
   "metadata": {},
   "source": [
    "<img src=\"../images/01_johan_cruyff/03_stats.jpg\" alt=\"stats-johan\" width=\"860\">"
   ]
  },
  {
   "cell_type": "markdown",
   "metadata": {},
   "source": [
    "In his eight seasons as a manager, Cruyff gave debuts to 30 La Masia graduates, of which ten debuts came in his last season. Barça's youth academy was among Cruyff's lasting legacy."
   ]
  },
  {
   "cell_type": "markdown",
   "metadata": {},
   "source": [
    "<img src=\"../images/01_johan_cruyff/01_academy_players.jpg\" alt=\"academy-players\">"
   ]
  },
  {
   "cell_type": "markdown",
   "metadata": {},
   "source": [
    "He never took another managerial job after 1996, but his influence remained forever. Cruyff's open support helped Joan Laporta win the presidential elections in 2003. He also recommended the appointment of Frank Rijkaard in 2003 and Pep Guardiola in 2008 as the managers of FC Barcelona - the latter appointment proved to be one of the inspired moves in the history of FC Barcelona.\n",
    "\n",
    "It was his *Dream Team*, his principles and his philosophy that inspired the next generation. His influence on Barça's youth academy gave rise to a system of players who went on to play with a distinctive footballing philosophy and predominant style of play. Cruyff's footballing principles have influenced the career of many players and managers. It was all down to Cruyff's footballing vision that La Masia produced great football players - Lionel Messi, Xavier Hernández, Andrés Iniesta, and many others. His influence not only helped FC Barcelona but also Spain in dominating world football from 2008-2012.\n",
    "\n",
    "On March 24 2016, at a clinic in Barcelona, Johan Cruyff passed away at the age of 68. A legend and an icon left the world, but his legacy remained everlasting."
   ]
  },
  {
   "cell_type": "markdown",
   "metadata": {},
   "source": [
    "<img src=\"../images/01_johan_cruyff/johan_05.jpg\" alt=\"camp-nou\" width=\"860\">"
   ]
  },
  {
   "cell_type": "markdown",
   "metadata": {},
   "source": [
    "Wikipedia\n",
    "\n",
    "https://www.marca.com/en/football/barcelona/2020/04/02/5e850ffee2704e537b8b46b0.html\n",
    "\n",
    "https://www.coachesvoice.com/johan-cruyff-barcelona-coach-tactics-pep-guardiola/\n",
    "\n",
    "https://www.fcbarcelona.com/en/card/648508/johan-cruyff-1988-96\n",
    "\n",
    "https://barcauniversal.com/barca-1995-96-season-the-end-of-johan-cruyffs-time-as-a-coach/\n",
    "\n",
    "https://www.fourfourtwo.com/features/barcelona-johan-cruyff-tactics-reinvented-modern-football-total-passing-pressing-nou-camp-champions-league-pep-guardiola\n",
    "\n",
    "https://en.wikipedia.org/wiki/Johan_Cruyff#Influence_and_legacy\n",
    "\n",
    "https://www.transfermarkt.co.in/fc-barcelona/erfolge/verein/131\n",
    "\n",
    "https://www.youtube.com/watch?v=tResxp9hOHo&t=444s\n",
    "\n",
    "https://www.transfermarkt.co.in/fc-barcelona/alletransfers/verein/131"
   ]
  }
 ],
 "metadata": {
  "kernelspec": {
   "display_name": "Python 3",
   "language": "python",
   "name": "python3"
  },
  "language_info": {
   "codemirror_mode": {
    "name": "ipython",
    "version": 3
   },
   "file_extension": ".py",
   "mimetype": "text/x-python",
   "name": "python",
   "nbconvert_exporter": "python",
   "pygments_lexer": "ipython3",
   "version": "3.7.7"
  }
 },
 "nbformat": 4,
 "nbformat_minor": 4
}
